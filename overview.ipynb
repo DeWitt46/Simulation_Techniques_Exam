{
 "cells": [
  {
   "cell_type": "markdown",
   "id": "c50282e4",
   "metadata": {},
   "source": [
    "# Simulation Techniques Exam"
   ]
  },
  {
   "cell_type": "markdown",
   "id": "53a0fd46",
   "metadata": {},
   "source": [
    "The exam is divided in 2 main parts.\n",
    "\n",
    "   - Simulate p-p and Pb-Pb collisions using Pythia, then analyse charged multiplicity and compare It to HEP data. As last step, look at p and \n",
    "\n",
    "transverse momentum distributions.\n",
    "\n",
    "   - Simulate two calorimeters: one parallelepiped made of PbWO4 and another of NaI. Compare their performance with an EM shower."
   ]
  },
  {
   "cell_type": "markdown",
   "id": "6d8f7813",
   "metadata": {},
   "source": [
    "## I Part: Pythia"
   ]
  },
  {
   "cell_type": "markdown",
   "id": "99d7a501",
   "metadata": {},
   "source": [
    "We want to simulate 1000000 events of p-p collision at 7 TeV and 13.6 TeV in the c.m., and 10000 events of Pb-Pb collision at 5.02 TeV and 5.4 TeV in the c.m. per nucleon. I made 4 files for these runs, each with a very similar structure.\n",
    "\n",
    "Given the high number of events, I chose to optimize the code with multithreading; Practically It consists in initializing the PythiaParallel class as generator and a function to act as a callback [[code sneak peek](img/code_1.png)].\n",
    "\n",
    "In addition, to avoid compiling the code many times for minor adjustement, I chose to make It read some settings on a card file, \"exam_settings.cmnd\". The first thought was to have both multithreading and subrun, but they don't work well; I managed to keep a unique card file by dividing It in 4 subruns and not saying to the main code that It had to perform 4 subruns, It only had to read settings from a certain subrun [[card file sneak peek](img/code_2.png)].\n",
    "\n",
    "\n",
    "To fill the histograms I needed for the analysis I added some If cycles inside the particle loop [ [code sneak peek](img/code_3.png) ]."
   ]
  },
  {
   "cell_type": "markdown",
   "id": "00b48273",
   "metadata": {},
   "source": [
    "First of all, we compared charged multiplicity of the p-p collision at 7 TeV with the HEP data [[pp Multiplicity](img/mult_pp.png)]. The run was made with the SoftQCD:all = on setting.\n",
    "There's agreement but our histogram is right between the one of NSD and INEL collisions; I collected data for several combinations of the SoftQCD processes but none was a better fit."
   ]
  },
  {
   "cell_type": "markdown",
   "id": "e5eef980",
   "metadata": {},
   "source": [
    "Also, we compared charged multiplicity of the two Pb-Pb collisions with the HardQCD:all = on and SoftQCD:all = on settings [[PbPb Multiplicity](img/mult_PbPb.png)].\n",
    "As expected, the SoftQCD ones are shifted towards left."
   ]
  },
  {
   "cell_type": "markdown",
   "id": "ec6d9ad3",
   "metadata": {},
   "source": [
    "Last analysis involves transverse momenta of the 4 collisions [[Transverse Momentum](img/p_T.png)]."
   ]
  },
  {
   "cell_type": "markdown",
   "id": "3e20f117",
   "metadata": {},
   "source": [
    "## II Part: Geant4"
   ]
  },
  {
   "cell_type": "markdown",
   "id": "d6ff88d9",
   "metadata": {},
   "source": [
    "We want to simulate an EM calorimeter; It must be a parallelepiped 20x20x3 cm at 1 m from the interaction point.\n",
    "The objective is to compare the performances of PBWO4 and NaI as materials with an EM shower. We look at the energy deposited and track length."
   ]
  },
  {
   "cell_type": "markdown",
   "id": "e58b20d1",
   "metadata": {},
   "source": [
    "As starting point I used the example B4b. It simulates a EM calorimeter made of several layers, each composed by a Pb absorber and a liquid Argon gap. The idea was to delete all the volumes which don't fit our desires and basically end up with just the World and a single absorber volume.\n",
    "\n",
    "For some reason I couldn't manage to delete all the gap references without resulting in a crash of the code, so I still have the energy deposited in the gap but It's always 0, as It should be [[code sneak peek](img/code_4.png)]."
   ]
  },
  {
   "cell_type": "markdown",
   "id": "b3433d64",
   "metadata": {},
   "source": [
    "I made two separate build to make data collection simpler, but they're of course very similar. The main differences are in \"src/DetectorConstruction.cc\" and in \"build/ExamRun.mac\". For all the runs we chose 50 MeV as beam energy and 30000 events [[code sneak peek](img/code_7.png)]."
   ]
  },
  {
   "cell_type": "markdown",
   "id": "bcc9794e",
   "metadata": {},
   "source": [
    "### PbWO4"
   ]
  },
  {
   "cell_type": "markdown",
   "id": "b3dc8475",
   "metadata": {},
   "source": [
    "I built PbWO4 material in \"DetectorConstruction.cc\" starting from the elements to try the feature, but It was inside nistManager [[code sneak peek](img/code_5.png)]."
   ]
  },
  {
   "cell_type": "markdown",
   "id": "cbeed2af",
   "metadata": {},
   "source": [
    "First of all we have a look at the energy deposit [[PbWO4 results for 3 cm thickness](img/PbWO4_1.png)].\n",
    "\n",
    "We detect a good fraction of the total energy, but It could be better, since the peak doesn't even get to 50 MeV (P.S. The energy deposited in the gap volume we sort of deleted is rightly 0)."
   ]
  },
  {
   "cell_type": "markdown",
   "id": "420bf752",
   "metadata": {},
   "source": [
    "An idea could be to make a lot thicker the absorber and have a look at the track length to have a reasonable thickness esteem [[PbWO4 results for 30 cm thickness](img/PbWO4_2.png)].\n",
    "\n",
    "Here we detect all the energy as we expected, and have also a well peaked distribution of the track length."
   ]
  },
  {
   "cell_type": "markdown",
   "id": "ecd513db",
   "metadata": {},
   "source": [
    "The peak is around 4.5 cm, so we can change the absorber thickness and try another run [[PbWO4 results for 4.5 cm thickness](img/PbWO4_3.png)].\n",
    "\n",
    "The energy deposit distribution is way better. Is the thickness enough? It depends on the beam energy: If we change It to 150 MeV the distribution has a much worse shape."
   ]
  },
  {
   "cell_type": "markdown",
   "id": "ca44d4c3",
   "metadata": {},
   "source": [
    "### NaI"
   ]
  },
  {
   "cell_type": "markdown",
   "id": "f57261fd",
   "metadata": {},
   "source": [
    "For the NaI \"src/DetectorConstruction.cc\" we used nistManager, which resulted in just a few lines of code [[code sneak peek](img/code_6.png)]"
   ]
  },
  {
   "cell_type": "markdown",
   "id": "926ec9e9",
   "metadata": {},
   "source": [
    "We substantially repeat the procedure for PbWO4.\n",
    "\n",
    "[[NaI results for 3 cm thickness](img/NaI_1.png)]\n",
    "\n",
    "The energy deposited has a worse shape.\n",
    "\n",
    "[[NaI results for 30 cm thickness](img/NaI_2.png)]\n",
    "\n",
    "The track length here peaks around 10 cm.\n",
    "\n",
    "[[NaI results for 10 cm thickness](img/NaI_3.png)]\n",
    "\n",
    "This time a 100 MeV energy beam is sufficient to worsen the shape of the energy deposit distribution. "
   ]
  },
  {
   "cell_type": "markdown",
   "id": "ec815caa",
   "metadata": {},
   "source": [
    "As a conclusion, we can say that PbWO4 is a material which allows a smaller calorimeter to detect the same EM shower energy, compared to NaI. In fact PbWO4 has an higher density, and the Bremsstrahlung dE/dx depends on the Z of the material of which the absorber is made of."
   ]
  },
  {
   "cell_type": "markdown",
   "id": "11825be7",
   "metadata": {},
   "source": []
  }
 ],
 "metadata": {
  "kernelspec": {
   "display_name": "ROOT C++",
   "language": "c++",
   "name": "root"
  },
  "language_info": {
   "codemirror_mode": "text/x-c++src",
   "file_extension": ".C",
   "mimetype": " text/x-c++src",
   "name": "c++"
  }
 },
 "nbformat": 4,
 "nbformat_minor": 5
}
